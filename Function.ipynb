{
  "nbformat": 4,
  "nbformat_minor": 0,
  "metadata": {
    "colab": {
      "provenance": []
    },
    "kernelspec": {
      "name": "python3",
      "display_name": "Python 3"
    },
    "language_info": {
      "name": "python"
    }
  },
  "cells": [
    {
      "cell_type": "markdown",
      "source": [
        "# Theory question"
      ],
      "metadata": {
        "id": "XKVJEpkdPcpW"
      }
    },
    {
      "cell_type": "markdown",
      "source": [
        "1.What is the difference between a function and a method in Python\n",
        "\n",
        "a function is an independent block of code that performs a specific task and it is defined using the def keyword and can be called anywhere in the program and is not tied to any object\n",
        "a method is a function that is associated with an object and it is called on an instance of a class using dot notation and he first parameter of a method inside a class is usually self, which refers to the instance\n"
      ],
      "metadata": {
        "id": "HdowIwdEPr09"
      }
    },
    {
      "cell_type": "code",
      "source": [
        "class Person:\n",
        "    def __init__(self, name):\n",
        "        self.name=name\n",
        "    def greet(self):\n",
        "        return f\"Hello, {self.name}!\"\n",
        "p = Person(\"Bob\")\n",
        "print(p.greet())\n"
      ],
      "metadata": {
        "colab": {
          "base_uri": "https://localhost:8080/"
        },
        "id": "Tikxl0gMXQid",
        "outputId": "be67f084-eb7f-476e-9145-adf09e528007"
      },
      "execution_count": null,
      "outputs": [
        {
          "output_type": "stream",
          "name": "stdout",
          "text": [
            "Hello, Bob!\n"
          ]
        }
      ]
    },
    {
      "cell_type": "markdown",
      "source": [
        "2. Explain the concept of function arguments and parameters in Python\n",
        "- function arguments and parameters are key concepts that define how values are passed into functions and variables listed in the function definition\n",
        "- Actual values passed to the function when calling it"
      ],
      "metadata": {
        "id": "6W8A31vdXfMC"
      }
    },
    {
      "cell_type": "code",
      "source": [
        "def greet(name):\n",
        "    print(f\"Hello,{name}!\")\n",
        "greet(\"Alice\")"
      ],
      "metadata": {
        "colab": {
          "base_uri": "https://localhost:8080/"
        },
        "id": "1UTSVrwbYkjr",
        "outputId": "09522a83-a3da-4e8e-bc5d-09da7cfdeda6"
      },
      "execution_count": null,
      "outputs": [
        {
          "output_type": "stream",
          "name": "stdout",
          "text": [
            "Hello,Alice!\n"
          ]
        }
      ]
    },
    {
      "cell_type": "markdown",
      "source": [
        "3.What are the different ways to define and call a function in Python\n",
        "- python provides multiple ways to define and call functions, offering flexibility depending on the use case standard function definition & call function with default arguments\n",
        "- this are many various types of to define and call function also many more ways are present in python"
      ],
      "metadata": {
        "id": "V4ZKPOSYZvul"
      }
    },
    {
      "cell_type": "code",
      "source": [
        "def greet(name):\n",
        "    return f\"Hello,{name}!\"\n",
        "    print(greet(\"Alice\"))"
      ],
      "metadata": {
        "id": "ijGFzhmBb16n"
      },
      "execution_count": null,
      "outputs": []
    },
    {
      "cell_type": "markdown",
      "source": [
        "4.What is the purpose of the 'return' statement in a Python function\n",
        "- The return statement in Python is used inside a function to send back a value to the caller and It effectively ends the function execution and returns the specified value\n",
        "- sends a value back to the caller, function stops executing once it reaches return, python allows returning multiple values as a tuple"
      ],
      "metadata": {
        "id": "gvuPuOREa4L-"
      }
    },
    {
      "cell_type": "code",
      "source": [
        "def square(num):\n",
        "    return num*num\n",
        "result=square(5)\n",
        "print(result)"
      ],
      "metadata": {
        "colab": {
          "base_uri": "https://localhost:8080/"
        },
        "id": "K95ja_kdbzPf",
        "outputId": "beaaf0b6-26a8-42c3-8398-ce3e0c3ee1df"
      },
      "execution_count": null,
      "outputs": [
        {
          "output_type": "stream",
          "name": "stdout",
          "text": [
            "25\n"
          ]
        }
      ]
    },
    {
      "cell_type": "markdown",
      "source": [
        "5.What are iterators in Python and how do they differ from iterables\n",
        "-  iterable is any Python object that can be looped over and tt contains a collection of elements and tt implements the __iter__() method, which returns an iterator\n",
        "- examples: lists, tuples, dictionaries, strings, sets, etc"
      ],
      "metadata": {
        "id": "de6G8QU1crjH"
      }
    },
    {
      "cell_type": "code",
      "source": [
        "my_list=[1, 2, 3]\n",
        "iterator=iter(my_list)\n",
        "print(next(iterator))\n",
        "print(next(iterator))\n",
        "print(next(iterator))"
      ],
      "metadata": {
        "colab": {
          "base_uri": "https://localhost:8080/"
        },
        "id": "pz6bubl-dO3A",
        "outputId": "1e780de5-4dea-4381-86ba-1e8affc7fee8"
      },
      "execution_count": null,
      "outputs": [
        {
          "output_type": "stream",
          "name": "stdout",
          "text": [
            "1\n",
            "2\n",
            "3\n"
          ]
        }
      ]
    },
    {
      "cell_type": "markdown",
      "source": [
        "6.Explain the concept of generators in Python and how they are defined\n",
        "- generator are a special type of iterators that allow you to generate values on the fly instead of storing them in memory and they are useful for handling large datasets efficiently\n",
        "- generator is a function that yields values one at a time instead of returning them all at once they use the yield keyword instead of return"
      ],
      "metadata": {
        "id": "PbCMqDgTdhLy"
      }
    },
    {
      "cell_type": "code",
      "source": [
        "def count_up_to(n):\n",
        "    count=1\n",
        "    while count<=n:\n",
        "        yield count\n",
        "        count+=\n",
        "gen=count_up_to(5)\n",
        "print(next(gen))\n",
        "print(next(gen))\n",
        "print(next(gen))\n",
        "print(next(gen))\n",
        "print(next(gen))"
      ],
      "metadata": {
        "colab": {
          "base_uri": "https://localhost:8080/",
          "height": 109
        },
        "id": "n1lhVy2keEoo",
        "outputId": "263107b8-a9be-4cf4-999e-3128530988bc"
      },
      "execution_count": null,
      "outputs": [
        {
          "output_type": "error",
          "ename": "SyntaxError",
          "evalue": "invalid syntax (<ipython-input-1-e5d862264afd>, line 5)",
          "traceback": [
            "\u001b[0;36m  File \u001b[0;32m\"<ipython-input-1-e5d862264afd>\"\u001b[0;36m, line \u001b[0;32m5\u001b[0m\n\u001b[0;31m    count +=\u001b[0m\n\u001b[0m            ^\u001b[0m\n\u001b[0;31mSyntaxError\u001b[0m\u001b[0;31m:\u001b[0m invalid syntax\n"
          ]
        }
      ]
    },
    {
      "cell_type": "markdown",
      "source": [
        "7.What are the advantages of using generators over regular functions\n",
        "- generators produce values one at a time using the yield statement, rather than storing all results in memory at once and This makes them ideal for handling large datasets without consuming excessive memory\n",
        "- this improves performance and reduces computation time for cases where not all values are needed"
      ],
      "metadata": {
        "id": "T1zhFXc1e2Yc"
      }
    },
    {
      "cell_type": "code",
      "source": [
        "def square_numbers(n):\n",
        "    result=[]\n",
        "    for i in range(n):\n",
        "        result.append(i*i)\n",
        "    return result\n",
        "squares=square_numbers(5)\n",
        "print(squares)\n"
      ],
      "metadata": {
        "colab": {
          "base_uri": "https://localhost:8080/"
        },
        "id": "dfYRWTKpff9v",
        "outputId": "e4fddc84-3ec7-4d19-8b7e-42590b009a65"
      },
      "execution_count": null,
      "outputs": [
        {
          "output_type": "stream",
          "name": "stdout",
          "text": [
            "[0, 1, 4, 9, 16]\n"
          ]
        }
      ]
    },
    {
      "cell_type": "markdown",
      "source": [
        "8.What is a lambda function in Python and when is it typically used\n",
        "- lambda function in Python is a small, anonymous function defined using the lambda keyword. Unlike regular functions created with def, lambda functions can have only one expression and return the result automatically\n",
        "- Lambda functions are commonly used in short, throwaway functions that are passed as arguments to higher-order functions like map(), filter(), and sorted()"
      ],
      "metadata": {
        "id": "Vao9OAbCfo6C"
      }
    },
    {
      "cell_type": "code",
      "source": [
        "square=lambda x: x*x\n",
        "print(square(5))"
      ],
      "metadata": {
        "colab": {
          "base_uri": "https://localhost:8080/"
        },
        "id": "-7eEDfKxgAx8",
        "outputId": "939908bc-34d3-4dbc-ed9b-1d22d0c80256"
      },
      "execution_count": null,
      "outputs": [
        {
          "output_type": "stream",
          "name": "stdout",
          "text": [
            "25\n"
          ]
        }
      ]
    },
    {
      "cell_type": "markdown",
      "source": [
        "9.Explain the purpose and usage of the 'map()' function in Python\n",
        "- map() function in Python is used to apply a given function to all items in an iterable (like a list or tuple) without needing an explicit loop\n",
        "- function that is applied to each element of the iterable and sequence whose elements are transformed\n"
      ],
      "metadata": {
        "id": "1S2j6yVugdcf"
      }
    },
    {
      "cell_type": "code",
      "source": [
        "def square(x):\n",
        "    return x * x\n",
        "nums=[1, 2, 3, 4]\n",
        "squared=map(square,nums)\n",
        "print(list(squared))"
      ],
      "metadata": {
        "colab": {
          "base_uri": "https://localhost:8080/"
        },
        "id": "IiD4QCoLg3Ze",
        "outputId": "b6367ad0-579e-477c-d08e-6f3cd737f72d"
      },
      "execution_count": null,
      "outputs": [
        {
          "output_type": "stream",
          "name": "stdout",
          "text": [
            "[1, 4, 9, 16]\n"
          ]
        }
      ]
    },
    {
      "cell_type": "markdown",
      "source": [
        "10.What is the difference between map(), reduce(), and filter() functions in Python\n",
        "- these three functions—map(), filter(), and reduce()—are part of functional programming in Python. they help process iterables efficiently without explicit loops\n",
        "- takes a function and an iterable and takes a function that returns True or False and takes a function and an iterable"
      ],
      "metadata": {
        "id": "WGRc-pl7hDVi"
      }
    },
    {
      "cell_type": "code",
      "source": [
        "numbers=[1, 2, 3, 4]\n",
        "squared=list(map(lambda x: x**2,numbers))\n",
        "print(squared)"
      ],
      "metadata": {
        "colab": {
          "base_uri": "https://localhost:8080/"
        },
        "id": "vVx3AU9RjELa",
        "outputId": "dbbf1279-1b65-44c9-a90e-6eacaa93f224"
      },
      "execution_count": null,
      "outputs": [
        {
          "output_type": "stream",
          "name": "stdout",
          "text": [
            "[1, 4, 9, 16]\n"
          ]
        }
      ]
    },
    {
      "cell_type": "markdown",
      "source": [
        "11.Using pen & Paper write the internal mechanism for sum operation using  reduce function on this given\n",
        "list:[47,11,42,13];"
      ],
      "metadata": {
        "id": "1yex1WQ5bE7P"
      }
    },
    {
      "cell_type": "markdown",
      "source": [
        "# Practical question"
      ],
      "metadata": {
        "id": "Nm8VCZfaPTtk"
      }
    },
    {
      "cell_type": "code",
      "source": [
        "#1.Write a Python function that takes a list of numbers as input and returns the sum of all even numbers in\n",
        "#the list\n",
        "def sum_even_numbers(numbers):\n",
        "    return sum(num for num in numbers if num % 2 == 0)\n",
        "    numbers_list = [1, 2, 3, 4, 5, 6, 7, 8, 9, 10]\n",
        "    print(sum_even_numbers(numbers_list))"
      ],
      "metadata": {
        "id": "3_x5jLg-QR6S"
      },
      "execution_count": null,
      "outputs": []
    },
    {
      "cell_type": "code",
      "source": [
        "#2.Create a Python function that accepts a string and returns the reverse of that string\n",
        "def reverse_string(string):\n",
        "  return string[::-1]\n",
        "  print(reverse_string(\"hello\"))"
      ],
      "metadata": {
        "id": "Q3MrKB_uQo6k"
      },
      "execution_count": null,
      "outputs": []
    },
    {
      "cell_type": "code",
      "source": [
        "#3.Implement a Python function that takes a list of integers and returns a new list containing the squares of\n",
        "#each number\n",
        "def square_numbers(numbers):\n",
        "    return [num**2 for num in numbers]\n",
        "    numbers_list=[1, 2, 3, 4, 5]\n",
        "    print(square_numbers(numbers_list))"
      ],
      "metadata": {
        "id": "2kRO1lJLRVAY"
      },
      "execution_count": null,
      "outputs": []
    },
    {
      "cell_type": "code",
      "source": [
        "#4.Write a Python function that checks if a given number is prime or not from 1 to 200\n",
        "def is_prime(n):\n",
        "    if n < 2:\n",
        "        return False\n",
        "    for i in range(2, int(n ** 0.5) + 1):\n",
        "        if n % i == 0:\n",
        "            return False\n",
        "    return True\n",
        "    prime_numbers = [n for n in range(1, 201) if is_prime(n)]\n",
        "    print(\"Prime numbers from 1 to 200:\",prime_numbers)\n"
      ],
      "metadata": {
        "id": "8hMi7ShRR5Vg"
      },
      "execution_count": null,
      "outputs": []
    },
    {
      "cell_type": "code",
      "source": [
        "#5. Create an iterator class in Python that generates the Fibonacci sequence up to a specified number of\n",
        "#terms\n",
        "\n",
        "def __iter__(self):\n",
        "        return self\n",
        "def __next__(self):\n",
        "        if self.count >= self.num_terms:\n",
        "            raise StopIteration\n",
        "        if self.count == 0:\n",
        "            self.count += 1\n",
        "            return self.a\n",
        "        elif self.count == 1:\n",
        "            self.count += 1\n",
        "            return self.b\n",
        "        self.a, self.b = self.b, self.a + self.b\n",
        "        self.count += 1\n",
        "        return self.a\n",
        "\n",
        "\n"
      ],
      "metadata": {
        "id": "BQ7bjWyOTChD"
      },
      "execution_count": null,
      "outputs": []
    },
    {
      "cell_type": "code",
      "source": [
        "#6.Write a generator function in Python that yields the powers of 2 up to a given exponent\n",
        "def powers_of_2(exponent):\n",
        "    for i in range(exponent+1):\n",
        "        yield 2**i\n"
      ],
      "metadata": {
        "id": "LPuGGIzeT4RK"
      },
      "execution_count": null,
      "outputs": []
    },
    {
      "cell_type": "code",
      "source": [
        "#7.Implement a generator function that reads a file line by line and yields each line as a string\n",
        "def read_file_line_by_line(file_path):\n",
        "    try:\n",
        "        with open(file_path,'r',encoding='utf-8')as file:\n",
        "            for line in file:\n",
        "                yield line.strip()\n",
        "    except FileNotFoundError:\n",
        "        print(f\"Error:File'{file_path}'not found.\")\n",
        "    except Exception as e:\n",
        "        print(f\"Error:{e}\")"
      ],
      "metadata": {
        "id": "vTd-1v4sUQS5"
      },
      "execution_count": null,
      "outputs": []
    },
    {
      "cell_type": "code",
      "source": [
        "#8.Use a lambda function in Python to sort a list of tuples based on the second element of each tuple\n",
        "sample_list=[(1, 3), (4, 1), (2, 2), (5, 0)]\n",
        "sorted_list=sorted(sample_list,key=lambda x: x[1])\n",
        "print(sorted_list)\n"
      ],
      "metadata": {
        "colab": {
          "base_uri": "https://localhost:8080/"
        },
        "id": "WCcgT6-mUgm3",
        "outputId": "f2aba7f3-7438-48cb-b78d-4617fbdb24c5"
      },
      "execution_count": null,
      "outputs": [
        {
          "output_type": "stream",
          "name": "stdout",
          "text": [
            "[(5, 0), (4, 1), (2, 2), (1, 3)]\n"
          ]
        }
      ]
    },
    {
      "cell_type": "code",
      "source": [
        "#9.Write a Python program that uses `map()` to convert a list of temperatures from Celsius to Fahrenheit\n",
        "celsius_to_fahrenheit=lambda c: (c * 9/5) + 32\n",
        "temperatures_celsius=[0, 10, 20, 30, 40, 100]\n",
        "temperatures_fahrenheit=list(map(celsius_to_fahrenheit, temperatures_celsius))\n",
        "print(\"Temperatures in Fahrenheit:\",temperatures_fahrenheit)"
      ],
      "metadata": {
        "colab": {
          "base_uri": "https://localhost:8080/"
        },
        "id": "97D4pZ3KWC7m",
        "outputId": "228ba505-90f0-41e3-cb0c-6423bbd48067"
      },
      "execution_count": null,
      "outputs": [
        {
          "output_type": "stream",
          "name": "stdout",
          "text": [
            "Temperatures in Fahrenheit: [32.0, 50.0, 68.0, 86.0, 104.0, 212.0]\n"
          ]
        }
      ]
    },
    {
      "cell_type": "code",
      "source": [
        "#10.Create a Python program that uses `filter()` to remove all the vowels from a given string\n",
        "def is_not_vowel(char):\n",
        "    return char.lower() not in'aeiou'\n",
        "input_string = \"Hello, how are you today?\"\n",
        "filtered_string=''.join(filter(is_not_vowel,input_string))\n",
        "print(\"String without vowels:\",filtered_string)\n"
      ],
      "metadata": {
        "colab": {
          "base_uri": "https://localhost:8080/"
        },
        "id": "iKGFaTH0WYH2",
        "outputId": "10ac70bc-9e75-44e5-b28e-5d4c8206be41"
      },
      "execution_count": null,
      "outputs": [
        {
          "output_type": "stream",
          "name": "stdout",
          "text": [
            "String without vowels: Hll, hw r y tdy?\n"
          ]
        }
      ]
    },
    {
      "cell_type": "code",
      "source": [
        "#11.Imagine an accounting routine used in a book shop. It works on a list with sublists, which look like this:\n",
        "orders=[\n",
        "    (34587,\"Learning Python, Mark Lutz\",4,40.95),\n",
        "    (98762,\"Programming Python, Mark Lutz\",5,56.80),\n",
        "    (77226,\"Head First Python, Paul Barry\",3,32.95),\n",
        "    (88112,\"Einführung in Python3, Bernd Klein\",3,24.99)\n",
        "    ]\n",
        "processed_orders = list(map(lambda order: (order[0], order[2] * order[3] if order[2] * order[3] >= 100 else order[2] * order[3] + 10), orders))\n",
        "print(processed_orders)\n",
        "\n",
        "\n",
        "\n",
        "\n",
        "\n",
        "\n"
      ],
      "metadata": {
        "colab": {
          "base_uri": "https://localhost:8080/"
        },
        "id": "GZYr71nDXCm7",
        "outputId": "93ea24cd-f0f9-4f97-bd45-abc9929491fa"
      },
      "execution_count": null,
      "outputs": [
        {
          "output_type": "stream",
          "name": "stdout",
          "text": [
            "[(34587, 163.8), (98762, 284.0), (77226, 108.85000000000001), (88112, 84.97)]\n"
          ]
        }
      ]
    }
  ]
}